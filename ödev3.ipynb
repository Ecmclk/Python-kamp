{
 "cells": [
  {
   "cell_type": "code",
   "execution_count": null,
   "id": "10caf498-a609-4487-a781-2f7a189c4c9e",
   "metadata": {},
   "outputs": [],
   "source": [
    "# Modüller ve Kütüphaneler"
   ]
  },
  {
   "cell_type": "code",
   "execution_count": 17,
   "id": "344e658a-b7de-45d4-9c6a-a1293cf05509",
   "metadata": {},
   "outputs": [
    {
     "name": "stdout",
     "output_type": "stream",
     "text": [
      "1. Çarpma\n",
      "2. Bölme\n",
      "3. Kare Kök\n",
      "4. Üs Alma\n",
      "5. Çıkış\n"
     ]
    },
    {
     "name": "stdin",
     "output_type": "stream",
     "text": [
      "İşleminizi seçin: 4\n",
      "Taban sayıyı girin:  2\n",
      "Üssü girin:  2\n"
     ]
    },
    {
     "name": "stdout",
     "output_type": "stream",
     "text": [
      "Sonuç: 4.0\n"
     ]
    },
    {
     "name": "stdin",
     "output_type": "stream",
     "text": [
      "İşleminizi seçin: 5\n"
     ]
    },
    {
     "name": "stdout",
     "output_type": "stream",
     "text": [
      "Hesap makinesini kapatıyorsunuz.\n"
     ]
    }
   ],
   "source": [
    "import math\n",
    "def hesap_makinesi():\n",
    "    print(\"1. Çarpma\")\n",
    "    print(\"2. Bölme\")\n",
    "    print(\"3. Kare Kök\")\n",
    "    print(\"4. Üs Alma\")\n",
    "    print(\"5. Çıkış\")\n",
    "\n",
    "    while True:\n",
    "        secim=int(input(\"İşleminizi seçin:\"))\n",
    "\n",
    "        if secim==1:\n",
    "            \n",
    "             a = float(input(\"Birinci sayıyı girin: \"))\n",
    "             b = float(input(\"İkinci sayıyı girin: \"))\n",
    "             print(a*b)\n",
    "\n",
    "       \n",
    "        \n",
    "        if secim ==2:\n",
    "            a = float(input(\"Birinci sayıyı girin: \"))\n",
    "            b = float(input(\"İkinci sayıyı girin: \"))\n",
    "            if b != 0:\n",
    "                print(f\"Sonuç: {a / b}\")\n",
    "            else:\n",
    "                print(\"Bir sayıyı sıfıra bölemezsiniz!\")\n",
    "        \n",
    "        if secim == 3:\n",
    "            a = float(input(\"Karekökünü almak istediğiniz sayıyı girin: \"))\n",
    "            if a >= 0:\n",
    "                print(f\"Sonuç: {math.sqrt(a)}\")\n",
    "            else:\n",
    "                print(\"Karekök alacağınız sayı negatif olamaz!\")\n",
    "        \n",
    "        if secim == 4:\n",
    "            a = float(input(\"Taban sayıyı girin: \"))\n",
    "            b = float(input(\"Üssü girin: \"))\n",
    "            print(f\"Sonuç: {math.pow(a, b)}\")\n",
    "        \n",
    "        if secim == 5:\n",
    "            print(\"Hesap makinesini kapatıyorsunuz.\")\n",
    "            break\n",
    "\n",
    "\n",
    "hesap_makinesi()"
   ]
  },
  {
   "cell_type": "code",
   "execution_count": 2,
   "id": "a060367f-f17a-4d2b-94fc-c0550b76cff0",
   "metadata": {},
   "outputs": [
    {
     "name": "stdout",
     "output_type": "stream",
     "text": [
      "5\n",
      "8.0\n"
     ]
    }
   ],
   "source": [
    "import my_module\n",
    "print(my_module.topla(2,3))\n",
    "print(my_module.us_al(2,3))"
   ]
  },
  {
   "cell_type": "code",
   "execution_count": 1,
   "id": "5434578e-1f8e-4f7e-a875-508d4ef67c8d",
   "metadata": {},
   "outputs": [],
   "source": [
    "#Hata Yönetimi"
   ]
  },
  {
   "cell_type": "code",
   "execution_count": 6,
   "id": "7c8f4c66-2ff9-4bc1-bdad-02f30d0f48c4",
   "metadata": {},
   "outputs": [
    {
     "name": "stdin",
     "output_type": "stream",
     "text": [
      "İlk sayınızı giriniz: 15\n",
      "İkinci sayınızı giriniz 3\n"
     ]
    },
    {
     "name": "stdout",
     "output_type": "stream",
     "text": [
      "Bölme işlemi sonucu: 5.0\n"
     ]
    }
   ],
   "source": [
    "try:\n",
    "    number1=int(input(\"İlk sayınızı giriniz:\"))\n",
    "    number2=int(input(\"İkinci sayınızı giriniz\"))\n",
    "    result=number1/number2\n",
    "    print(\"Bölme işlemi sonucu:\",result)\n",
    "except:\n",
    "    print(\"bölüm 0 olamaz\")"
   ]
  },
  {
   "cell_type": "code",
   "execution_count": 21,
   "id": "ec51fedc-605f-4bd3-96c9-44b39ec862bc",
   "metadata": {},
   "outputs": [
    {
     "name": "stdin",
     "output_type": "stream",
     "text": [
      "İlk sayınızı giriniz: -2\n",
      "İkinci sayınızı giriniz 5\n"
     ]
    },
    {
     "name": "stdout",
     "output_type": "stream",
     "text": [
      "negatif sayı girilemez\n"
     ]
    }
   ],
   "source": [
    "class NegativeNumberError(Exception):\n",
    "    def __init__(self,message=\"Negatif sayı girildi.\"):\n",
    "        super().__init__(message)\n",
    "    def sayikontrol(number1,number2):\n",
    "        if number1<0 or number2<0:\n",
    "            raise NegativeNumberError(f\"negatif sayı girilemez\")\n",
    "\n",
    "def bolme():\n",
    "    try:\n",
    "        number1=int(input(\"İlk sayınızı giriniz:\"))\n",
    "        number2=int(input(\"İkinci sayınızı giriniz\"))\n",
    "        NegativeNumberError.sayikontrol(number1,number2)\n",
    "        result=number1/number2\n",
    "        print(\"Bölme işlemi sonucu:\",result)\n",
    "    except  NegativeNumberError as e:\n",
    "        print(e)\n",
    "\n",
    "bolme()"
   ]
  },
  {
   "cell_type": "code",
   "execution_count": 22,
   "id": "b1f69e0f-8bd2-4a69-83ec-76422849ef72",
   "metadata": {},
   "outputs": [],
   "source": [
    "#Dosya Yönetimi"
   ]
  },
  {
   "cell_type": "code",
   "execution_count": 37,
   "id": "ce15cdff-20ff-4b19-9816-fcbbf8d47631",
   "metadata": {},
   "outputs": [
    {
     "name": "stdin",
     "output_type": "stream",
     "text": [
      "Verilerinizi girin ecem,irem,ırmak\n"
     ]
    },
    {
     "name": "stdout",
     "output_type": "stream",
     "text": [
      "ecem,irem,ırmak\n",
      "\n"
     ]
    }
   ],
   "source": [
    "data=input(\"Verilerinizi girin\")\n",
    "with open(\"data.txt\",\"w\",encoding=\"utf-8\") as myfile:\n",
    "    myfile.write(data + \"\\n\")\n",
    "with open(\"data.txt\",\"r\",encoding=\"utf-8\") as myfile:\n",
    "    print(myfile.read())\n",
    "\n",
    "    "
   ]
  },
  {
   "cell_type": "code",
   "execution_count": 59,
   "id": "1f547401-a152-4e3e-98b8-342df903b255",
   "metadata": {},
   "outputs": [
    {
     "name": "stdout",
     "output_type": "stream",
     "text": [
      "{'isim': 'Ecem', 'soyisim': 'Çelik', 'Yaş': '21'}\n",
      "{'isim': 'İrem', 'soyisim': 'Çelik', 'Yaş': '28'}\n"
     ]
    }
   ],
   "source": [
    "import json\n",
    "kullanıcı={\"isim\":\"Ecem\", \"soyisim\":\"Çelik\",\"Yaş\":\"21\"}\n",
    "with open(\"kullanıcı.json\",\"w\", encoding=\"utf-8\") as file:\n",
    "    json.dump(kullanıcı, file, ensure_ascii=False, indent=4)\n",
    "with open(\"kullanıcı.json\",\"r\", encoding=\"utf-8\") as file:\n",
    "    veri = json.load(file)\n",
    "    print(veri)\n",
    "\n",
    "veri[\"Yaş\"]=\"28\"\n",
    "veri[\"isim\"]=\"İrem\"\n",
    "\n",
    "with open(\"kullanıcı.json\", \"w\", encoding=\"utf-8\") as file:\n",
    "        json.dump(veri, file, ensure_ascii=False, indent=4)\n",
    "\n",
    "with open(\"kullanıcı.json\",\"r\", encoding=\"utf-8\") as file:\n",
    "    veri = json.load(file)\n",
    "    print(veri)\n"
   ]
  },
  {
   "cell_type": "code",
   "execution_count": 60,
   "id": "5e306bcb-1c0f-4dbe-9322-52b56c6c0b9b",
   "metadata": {},
   "outputs": [],
   "source": [
    "# İleri Fonksiyonel Programlama"
   ]
  },
  {
   "cell_type": "code",
   "execution_count": 74,
   "id": "5cb36798-fffb-40f3-bf9a-55bb6f547ff5",
   "metadata": {},
   "outputs": [
    {
     "name": "stdout",
     "output_type": "stream",
     "text": [
      "[3, 4, 5, 6, 7, 8, 9, 10]\n",
      "[2, 4, 6, 8]\n",
      "40320\n",
      "[8, 7, 6, 5, 4, 3, 2, 1]\n"
     ]
    }
   ],
   "source": [
    "from functools import reduce\n",
    "listem=[1,2,3,4,5,6,7,8]\n",
    "def ikişer_ekle(indeks):\n",
    "    return indeks+2\n",
    "sonuc=map(ikişer_ekle,listem)\n",
    "print(list(sonuc))\n",
    "sonuc=filter(lambda x:x%2==0,listem)\n",
    "print(list(sonuc))\n",
    "sonuc=reduce(lambda x,y:x*y,listem)\n",
    "print(sonuc)\n",
    "sonuc=sorted(listem,key=lambda x:x,reverse=True)\n",
    "print(sonuc)"
   ]
  },
  {
   "cell_type": "code",
   "execution_count": 75,
   "id": "c9b89032-e6dd-4a8c-b5e6-9dcf4749d3c2",
   "metadata": {},
   "outputs": [],
   "source": [
    "#: Iterator ve Generator Kullanım"
   ]
  },
  {
   "cell_type": "code",
   "execution_count": 3,
   "id": "5c10967f-0cf8-42c0-996d-a65decfb6e5c",
   "metadata": {},
   "outputs": [
    {
     "name": "stdout",
     "output_type": "stream",
     "text": [
      "6\n",
      "8\n",
      "10\n"
     ]
    }
   ],
   "source": [
    "class Even_Numbers:\n",
    "    def __init__(self, start, end):\n",
    "        self.start = start\n",
    "        self.end = end\n",
    "        self.sıradaki = start  #\n",
    "    \n",
    "    def __iter__(self):\n",
    "        return self  \n",
    "\n",
    "    def __next__(self):\n",
    "    \n",
    "        if self.sıradaki > self.end:\n",
    "            raise StopIteration\n",
    "        \n",
    "       \n",
    "        if self.sıradaki % 2 != 0:  \n",
    "            self.sıradaki += 1  \n",
    "        \n",
    "        result = self.sıradaki  \n",
    "        self.sıradaki += 2  \n",
    "        return result  \n",
    "\n",
    "\n",
    "\n",
    "eveb_numb = Even_Numbers(5, 10)\n",
    "\n",
    "for e in eveb_numb:\n",
    "    print(e)\n"
   ]
  },
  {
   "cell_type": "code",
   "execution_count": 12,
   "id": "487ef832-d4f5-4c27-8952-606309958658",
   "metadata": {},
   "outputs": [
    {
     "name": "stdout",
     "output_type": "stream",
     "text": [
      "[0, 1, 3, 6, 10, 15]\n"
     ]
    }
   ],
   "source": [
    "from itertools import accumulate\n",
    "def fibonacci(liste):\n",
    "    sonuc=list(accumulate(liste))\n",
    "    print(sonuc)\n",
    "\n",
    "listem=[0,1,2,3,4,5]\n",
    "fibonacci(listem)\n"
   ]
  }
 ],
 "metadata": {
  "kernelspec": {
   "display_name": "Python 3 (ipykernel)",
   "language": "python",
   "name": "python3"
  },
  "language_info": {
   "codemirror_mode": {
    "name": "ipython",
    "version": 3
   },
   "file_extension": ".py",
   "mimetype": "text/x-python",
   "name": "python",
   "nbconvert_exporter": "python",
   "pygments_lexer": "ipython3",
   "version": "3.12.7"
  }
 },
 "nbformat": 4,
 "nbformat_minor": 5
}
