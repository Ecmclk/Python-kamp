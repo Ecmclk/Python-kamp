{
 "cells": [
  {
   "cell_type": "code",
   "execution_count": null,
   "id": "299123df-509f-4e79-ae00-008cb61c7cfd",
   "metadata": {},
   "outputs": [],
   "source": [
    "# 1.Temel Fonksiyonlar"
   ]
  },
  {
   "cell_type": "code",
   "execution_count": 20,
   "id": "a02f77d6-c514-458e-872e-6ff63105a004",
   "metadata": {},
   "outputs": [],
   "source": [
    "def average():\n",
    "    numbers=list(map(int,(input(\"Sayılarınızı giriniz.(Virgülle ayırın)\").split(\",\"))))\n",
    "    total=0\n",
    "    average=0\n",
    "    for num in numbers:\n",
    "        total=num+total\n",
    "    average=total/len(numbers)\n",
    "    print(\"Ortalama:\",average)"
   ]
  },
  {
   "cell_type": "code",
   "execution_count": 21,
   "id": "2399570b-5af3-4b0f-adee-5e264027c59b",
   "metadata": {},
   "outputs": [
    {
     "name": "stdin",
     "output_type": "stream",
     "text": [
      "Sayılarınızı giriniz.(Virgülle ayırın) 10,2\n"
     ]
    },
    {
     "name": "stdout",
     "output_type": "stream",
     "text": [
      "Ortalama: 6.0\n"
     ]
    }
   ],
   "source": [
    "average()"
   ]
  },
  {
   "cell_type": "code",
   "execution_count": 31,
   "id": "bc669918-bb23-4575-9f0c-d5200641fc6c",
   "metadata": {},
   "outputs": [],
   "source": [
    "def greatest():\n",
    "    number1=int(input(\"İlk sayınızı giriniz:\"))\n",
    "    number2=int(input(\"İkinci sayınızı giriniz:\"))\n",
    "    greatest=0\n",
    "    if number1>number2:\n",
    "         greatest=number1\n",
    "    else:\n",
    "        greatest=number2\n",
    "    print(\"Büyük sayı:\",greatest)"
   ]
  },
  {
   "cell_type": "code",
   "execution_count": 33,
   "id": "4111ec25-726e-41bb-b0d5-d19681a00f04",
   "metadata": {},
   "outputs": [
    {
     "name": "stdin",
     "output_type": "stream",
     "text": [
      "İlk sayınızı giriniz: 2\n",
      "İkinci sayınızı giriniz: 20\n"
     ]
    },
    {
     "name": "stdout",
     "output_type": "stream",
     "text": [
      "Büyük sayı: 20\n"
     ]
    }
   ],
   "source": [
    "greatest()"
   ]
  },
  {
   "cell_type": "code",
   "execution_count": 44,
   "id": "e1eb3d67-ce7d-4cdd-9279-55ce2de0833f",
   "metadata": {},
   "outputs": [],
   "source": [
    "def countingWords():\n",
    "    metin=input(\"Cümlenizi girin:\")\n",
    "    kelimeler=metin.split()\n",
    "    kelimeSayisi=len(kelimeler)\n",
    "    print(\"Metininizdeki kelime sayısı:\",kelimeSayisi)"
   ]
  },
  {
   "cell_type": "code",
   "execution_count": 45,
   "id": "f36f307e-1fcf-46b2-9afe-03ad67d3eae9",
   "metadata": {},
   "outputs": [
    {
     "name": "stdin",
     "output_type": "stream",
     "text": [
      "Cümlenizi girin: merhaba ben ecem\n"
     ]
    },
    {
     "name": "stdout",
     "output_type": "stream",
     "text": [
      "Metininizdeki kelime sayısı: 3\n"
     ]
    }
   ],
   "source": [
    "countingWords()"
   ]
  },
  {
   "cell_type": "code",
   "execution_count": 46,
   "id": "c563d3e1-0f56-4152-931f-5696a8bdde17",
   "metadata": {},
   "outputs": [],
   "source": [
    "#2. Lambda İfadeleri, Map ve Filter"
   ]
  },
  {
   "cell_type": "code",
   "execution_count": 52,
   "id": "42bd09b5-0510-4783-aeff-a56906af8001",
   "metadata": {},
   "outputs": [],
   "source": [
    "def square():\n",
    "    liste=list(map(int,(input(\"Sayılarınızı giriniz.(Virgülle ayırın)\").split(\",\"))))\n",
    "    yeniListe=list(map(lambda x:x*x, liste))\n",
    "    print(yeniListe)\n",
    "\n",
    "    "
   ]
  },
  {
   "cell_type": "code",
   "execution_count": 53,
   "id": "8528b9c8-0f81-4da1-a7f8-39e8ef1c9fa6",
   "metadata": {},
   "outputs": [
    {
     "name": "stdin",
     "output_type": "stream",
     "text": [
      "Sayılarınızı giriniz.(Virgülle ayırın) 1,3,2\n"
     ]
    },
    {
     "name": "stdout",
     "output_type": "stream",
     "text": [
      "[1, 9, 4]\n"
     ]
    }
   ],
   "source": [
    "square()"
   ]
  },
  {
   "cell_type": "code",
   "execution_count": 58,
   "id": "a2a5b0ff-4e57-4bb7-ace4-d03090f18c3b",
   "metadata": {},
   "outputs": [],
   "source": [
    "def filtre():\n",
    "    liste=list(map(int,input(\"Sayılarınızı giriniz:(Virgülle ayırın)\").split(\",\")))\n",
    "    yeniListe=list(filter(lambda x:x<50 and x>0 and x%2==0,liste))\n",
    "    print(yeniListe)"
   ]
  },
  {
   "cell_type": "code",
   "execution_count": 59,
   "id": "ae4f6db5-8840-47ab-8160-ffcd5a64d5e9",
   "metadata": {},
   "outputs": [
    {
     "name": "stdin",
     "output_type": "stream",
     "text": [
      "Sayılarınızı giriniz:(Virgülle ayırın) 1,2,6,65,4,48\n"
     ]
    },
    {
     "name": "stdout",
     "output_type": "stream",
     "text": [
      "[2, 6, 4, 48]\n"
     ]
    }
   ],
   "source": [
    "filtre()"
   ]
  },
  {
   "cell_type": "code",
   "execution_count": 73,
   "id": "eab2067c-d4f9-4e99-8575-62e8c2389c01",
   "metadata": {},
   "outputs": [],
   "source": [
    "def total():\n",
    "    number1=int(input(\"İlk sayınızı girin:\"))\n",
    "    number2=int(input(\"İkinci sayınızı girin:\"))\n",
    "    totalSum=sum(filter(lambda x: number1< x <number2,range(number1,number2+1)))\n",
    "    print(totalSum)"
   ]
  },
  {
   "cell_type": "code",
   "execution_count": 74,
   "id": "8b6abde5-3a01-4051-8646-a75d5a8f41f7",
   "metadata": {},
   "outputs": [
    {
     "name": "stdin",
     "output_type": "stream",
     "text": [
      "İlk sayınızı girin: 1\n",
      "İkinci sayınızı girin: 6\n"
     ]
    },
    {
     "name": "stdout",
     "output_type": "stream",
     "text": [
      "14\n"
     ]
    }
   ],
   "source": [
    "total()"
   ]
  },
  {
   "cell_type": "code",
   "execution_count": 75,
   "id": "08caa47b-3a77-4044-a228-a65ca007f19c",
   "metadata": {},
   "outputs": [],
   "source": [
    "#4.Kapsam ve Değişkenler"
   ]
  },
  {
   "cell_type": "code",
   "execution_count": 80,
   "id": "c5ee7275-6e36-4c1d-a4e7-78f3019b3295",
   "metadata": {},
   "outputs": [],
   "source": [
    "counter=0\n",
    "def changeCounter():\n",
    "    global counter\n",
    "    i=0\n",
    "    for i in range(i,5):\n",
    "        print(counter)\n",
    "        counter+=1\n",
    "        \n",
    "        "
   ]
  },
  {
   "cell_type": "code",
   "execution_count": 81,
   "id": "d97fd4d0-752f-4c06-9d8b-36c7cfd9f390",
   "metadata": {},
   "outputs": [
    {
     "name": "stdout",
     "output_type": "stream",
     "text": [
      "0\n",
      "1\n",
      "2\n",
      "3\n",
      "4\n"
     ]
    }
   ],
   "source": [
    "changeCounter()"
   ]
  },
  {
   "cell_type": "code",
   "execution_count": 82,
   "id": "a3c43988-5417-4699-a9b5-4993d22e5bc4",
   "metadata": {},
   "outputs": [],
   "source": [
    "#4.Sınıflar ve Nesneler"
   ]
  },
  {
   "cell_type": "code",
   "execution_count": 100,
   "id": "04de9a23-790c-486f-8b1a-40e8fc35e292",
   "metadata": {},
   "outputs": [],
   "source": [
    "class HesapMakinesi():\n",
    "\n",
    "    def __init__(self,x,y):\n",
    "        self.x=x\n",
    "        self.y=y\n",
    "        \n",
    "    def toplama(self):\n",
    "        toplam=self.x+self.y\n",
    "        print(toplam)\n",
    "      \n",
    "    def çıkarma(self):\n",
    "        çıkarma= self.x-self.y\n",
    "        print(çıkarma)\n",
    "       \n",
    "         \n",
    "    def çarpma(self):\n",
    "        çarpma=self.x*self.y\n",
    "        print(çarpma)\n",
    "\n",
    "    def bölme(self):\n",
    "        bölme=self.x/self.y\n",
    "        print(bölme)\n",
    "     \n",
    "    "
   ]
  },
  {
   "cell_type": "code",
   "execution_count": 101,
   "id": "eb389272-b241-485d-92b7-173f3d6777f9",
   "metadata": {},
   "outputs": [],
   "source": [
    "myhesap=HesapMakinesi(3,5)"
   ]
  },
  {
   "cell_type": "code",
   "execution_count": 103,
   "id": "8f1d39d8-23ce-4bb7-8b2a-a56fae8d9fa1",
   "metadata": {},
   "outputs": [
    {
     "name": "stdout",
     "output_type": "stream",
     "text": [
      "8\n",
      "15\n"
     ]
    }
   ],
   "source": [
    "myhesap.toplama()\n",
    "myhesap.çarpma()"
   ]
  },
  {
   "cell_type": "code",
   "execution_count": 115,
   "id": "2fafb185-ed7c-4129-b5db-da1e63ce2723",
   "metadata": {},
   "outputs": [],
   "source": [
    "class Öğrenci():\n",
    "    def __init__(self,name,grade,sınıf):\n",
    "        self.name=name\n",
    "        self.grade=grade\n",
    "        self.sınıf=sınıf\n",
    "    def average(self):\n",
    "        avrg=(sum(self.grade)/len(self.grade))\n",
    "        print(avrg)\n",
    "\n",
    "\n",
    "        "
   ]
  },
  {
   "cell_type": "code",
   "execution_count": 116,
   "id": "ab133c6c-b53a-402d-9ca6-b507787683e3",
   "metadata": {},
   "outputs": [],
   "source": [
    "öğrenci1=Öğrenci(\"ecem\",[80,85,90],\"A\")"
   ]
  },
  {
   "cell_type": "code",
   "execution_count": 117,
   "id": "4bb7d716-e286-4cf1-9ad3-431a4d8a6933",
   "metadata": {},
   "outputs": [
    {
     "name": "stdout",
     "output_type": "stream",
     "text": [
      "85.0\n"
     ]
    }
   ],
   "source": [
    "öğrenci1.average()"
   ]
  },
  {
   "cell_type": "code",
   "execution_count": 118,
   "id": "5b4797e1-fc9e-48e0-8cc9-dd88173a843a",
   "metadata": {},
   "outputs": [],
   "source": [
    "#5.Kalıtım"
   ]
  },
  {
   "cell_type": "code",
   "execution_count": 124,
   "id": "ef3b34c5-a570-48d0-9f33-961853e5c76a",
   "metadata": {},
   "outputs": [],
   "source": [
    "class Hayvan():\n",
    "    def __init__(self):\n",
    "        pass\n",
    "        \n",
    "    def sesler(self):\n",
    "        print(\"Hayvanlar ses çıkarır\")\n",
    "\n",
    "class Kedi(Hayvan):\n",
    "    def __init__(self):\n",
    "        Hayvan.__init__(self)\n",
    "\n",
    "    def sesler(self):\n",
    "        print(\"Miav\")\n",
    "\n",
    "class Köpek(Hayvan):\n",
    "     def __init__(self):\n",
    "        Hayvan.__init__(self)\n",
    "         \n",
    "     def sesler(self):\n",
    "        print(\"Hav\")"
   ]
  },
  {
   "cell_type": "code",
   "execution_count": 125,
   "id": "e8691e9e-4993-4426-ae4f-e75db8a2a12b",
   "metadata": {},
   "outputs": [
    {
     "name": "stdout",
     "output_type": "stream",
     "text": [
      "Miav\n"
     ]
    }
   ],
   "source": [
    "maviş=Kedi()\n",
    "maviş.sesler()"
   ]
  },
  {
   "cell_type": "code",
   "execution_count": 127,
   "id": "89f112bb-8877-4ef2-b37c-5b608c7381d7",
   "metadata": {},
   "outputs": [
    {
     "name": "stdout",
     "output_type": "stream",
     "text": [
      "Hav\n"
     ]
    }
   ],
   "source": [
    "karabaş=Köpek()\n",
    "karabaş.sesler()"
   ]
  },
  {
   "cell_type": "code",
   "execution_count": 137,
   "id": "dfc3c96f-b8e3-48fd-bac5-63ca357831ad",
   "metadata": {},
   "outputs": [],
   "source": [
    "class Araba():\n",
    "    def __init__(self,marka):\n",
    "        self.marka=marka\n",
    "\n",
    "class ElektrikliAraba(Araba):\n",
    "    def __init__(self,marka,pilSeviyesi):\n",
    "        Araba.__init__(self,marka)\n",
    "        self.pilSeviyesi=pilSeviyesi\n",
    "\n",
    "    def pilDurumu(self):\n",
    "        print(self.pilSeviyesi)\n",
    "\n",
    "    def şarjEt(self,miktar):\n",
    "        if self.pilSeviyesi+miktar>100:\n",
    "            self.pilSeviyesi=100\n",
    "        else:\n",
    "            self.pilSeviyesi=self.pilSeviyesi+miktar\n",
    "        print(self.pilSeviyesi)\n",
    "    \n"
   ]
  },
  {
   "cell_type": "code",
   "execution_count": 142,
   "id": "b9eda2a7-20b1-4903-9a7e-470feef348d2",
   "metadata": {},
   "outputs": [
    {
     "name": "stdout",
     "output_type": "stream",
     "text": [
      "42\n",
      "82\n"
     ]
    }
   ],
   "source": [
    "araba1=ElektrikliAraba(\"mercedes\",42)\n",
    "araba1.pilDurumu()\n",
    "araba1.şarjEt(40)"
   ]
  },
  {
   "cell_type": "code",
   "execution_count": 174,
   "id": "8a5517a5-5ab6-4674-a057-f8f3da3b2224",
   "metadata": {},
   "outputs": [],
   "source": [
    "class x():\n",
    "    def __init__(Self):\n",
    "        pass\n",
    "    def __add__(self):\n",
    "        vektör1=list(map(int,(input(\"Vektörünüzü giriniz.(Virgülle ayırın)\").split(\",\"))))\n",
    "        vektör2=list(map(int,(input(\"Vektörünüzü giriniz.(Virgülle ayırın)\").split(\",\"))))\n",
    "        i=len(vektör1)\n",
    "        j=len(vektör2)\n",
    "        list1=[]\n",
    "        if i>=j:\n",
    "            for indx in range(0,i):\n",
    "                if indx<j:\n",
    "                    list1.append(vektör1[indx]+vektör2[indx])\n",
    "                else:\n",
    "                    vektör2.append(0)\n",
    "                    list1.append(vektör1[indx]+vektör2[indx])\n",
    "\n",
    "        else:\n",
    "             for indx in range(0,j):\n",
    "                if indx<i:\n",
    "                    list1.append(vektör1[indx]+vektör2[indx])\n",
    "                else:\n",
    "                    vektör1.append(0)\n",
    "                    list1.append(vektör1[indx]+vektör2[indx])\n",
    "                \n",
    "        print(list1)\n",
    "    \n",
    "    \n",
    "\n",
    "        "
   ]
  },
  {
   "cell_type": "code",
   "execution_count": 175,
   "id": "33248af1-109c-4d67-941a-ac25f3bc8b3c",
   "metadata": {},
   "outputs": [
    {
     "name": "stdin",
     "output_type": "stream",
     "text": [
      "Vektörünüzü giriniz.(Virgülle ayırın) 1,2,3\n",
      "Vektörünüzü giriniz.(Virgülle ayırın) 1,2\n"
     ]
    },
    {
     "name": "stdout",
     "output_type": "stream",
     "text": [
      "[2, 4, 3]\n"
     ]
    }
   ],
   "source": [
    "obj=x()\n",
    "obj.__add__()"
   ]
  },
  {
   "cell_type": "code",
   "execution_count": 179,
   "id": "7af9a08a-af13-4471-b9c8-0cddaba625b3",
   "metadata": {},
   "outputs": [],
   "source": [
    "class y():\n",
    "    def __init__(self,name,age):\n",
    "        self.name=name\n",
    "        self.age=age\n",
    "    def __str__(self):\n",
    "        return f\"Obje ismi:{self.name} \\nObjenin yaşı:{self.age}\""
   ]
  },
  {
   "cell_type": "code",
   "execution_count": 181,
   "id": "3abe6563-164f-4401-b7b0-efd9daf25e33",
   "metadata": {},
   "outputs": [
    {
     "name": "stdout",
     "output_type": "stream",
     "text": [
      "Obje ismi:Ecem \n",
      "Objenin yaşı:20\n"
     ]
    }
   ],
   "source": [
    "obj=y(\"Ecem\",20)\n",
    "print(obj)"
   ]
  },
  {
   "cell_type": "code",
   "execution_count": null,
   "id": "4415263a-dfe6-4cd1-b778-66c6e4fca0e6",
   "metadata": {},
   "outputs": [],
   "source": []
  }
 ],
 "metadata": {
  "kernelspec": {
   "display_name": "Python 3 (ipykernel)",
   "language": "python",
   "name": "python3"
  },
  "language_info": {
   "codemirror_mode": {
    "name": "ipython",
    "version": 3
   },
   "file_extension": ".py",
   "mimetype": "text/x-python",
   "name": "python",
   "nbconvert_exporter": "python",
   "pygments_lexer": "ipython3",
   "version": "3.12.7"
  }
 },
 "nbformat": 4,
 "nbformat_minor": 5
}
