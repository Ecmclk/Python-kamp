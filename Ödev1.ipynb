{
 "cells": [
  {
   "cell_type": "code",
   "execution_count": 1,
   "id": "2688668e-3e99-4c66-8ba4-c0cc2a2a5e2e",
   "metadata": {},
   "outputs": [],
   "source": [
    "#1.İlk Pyhton Uygulaması"
   ]
  },
  {
   "cell_type": "code",
   "execution_count": 2,
   "id": "0ce1d8ce-a2bf-4db3-b466-3af94111758b",
   "metadata": {},
   "outputs": [
    {
     "name": "stdout",
     "output_type": "stream",
     "text": [
      "Merhaba yapay zeka!\n"
     ]
    }
   ],
   "source": [
    "print(\"Merhaba yapay zeka!\")"
   ]
  },
  {
   "cell_type": "code",
   "execution_count": 4,
   "id": "2fb621c3-5186-4c1f-9755-85a7a2a437b0",
   "metadata": {},
   "outputs": [
    {
     "name": "stdin",
     "output_type": "stream",
     "text": [
      "Adınızı girin lütfen: Ecem\n"
     ]
    },
    {
     "name": "stdout",
     "output_type": "stream",
     "text": [
      "Merhaba Ecem ! Python öğrenmeye hoş geldin.\n"
     ]
    }
   ],
   "source": [
    "isim=input(\"Adınızı girin lütfen:\")\n",
    "print(\"Merhaba\",isim,\"! Python öğrenmeye hoş geldin.\")\n"
   ]
  },
  {
   "cell_type": "code",
   "execution_count": 5,
   "id": "a21c9244-270a-4eec-ad07-a1d5c1cc8215",
   "metadata": {},
   "outputs": [],
   "source": [
    "#2.Değişkenler ve Veri Tipleri Uygulaması"
   ]
  },
  {
   "cell_type": "code",
   "execution_count": 12,
   "id": "880ab60c-1a11-4d6f-a324-1632e33db358",
   "metadata": {},
   "outputs": [],
   "source": [
    " meyve=\"elma\" \n",
    " kelime=\"aldım\"\n",
    " adet=2\n",
    " fiyat=3.5\n",
    " deger=True \n"
   ]
  },
  {
   "cell_type": "code",
   "execution_count": 13,
   "id": "6df589e1-a32e-4e86-a056-eaf1318b24db",
   "metadata": {},
   "outputs": [
    {
     "data": {
      "text/plain": [
       "'elmaaldım'"
      ]
     },
     "execution_count": 13,
     "metadata": {},
     "output_type": "execute_result"
    }
   ],
   "source": [
    "meyve+kelime"
   ]
  },
  {
   "cell_type": "code",
   "execution_count": 14,
   "id": "86610829-b526-41e9-a804-84f5fcad0fbd",
   "metadata": {},
   "outputs": [
    {
     "data": {
      "text/plain": [
       "7.0"
      ]
     },
     "execution_count": 14,
     "metadata": {},
     "output_type": "execute_result"
    }
   ],
   "source": [
    "adet*fiyat"
   ]
  },
  {
   "cell_type": "code",
   "execution_count": 15,
   "id": "64d81966-58d2-4fd6-87e3-46160de33f1b",
   "metadata": {},
   "outputs": [
    {
     "data": {
      "text/plain": [
       "True"
      ]
     },
     "execution_count": 15,
     "metadata": {},
     "output_type": "execute_result"
    }
   ],
   "source": [
    "deger"
   ]
  },
  {
   "cell_type": "code",
   "execution_count": 19,
   "id": "fd913ee8-2a54-410b-97b1-845af97e690c",
   "metadata": {},
   "outputs": [
    {
     "name": "stdin",
     "output_type": "stream",
     "text": [
      "İlk sayıyı girin lütfen 15\n"
     ]
    }
   ],
   "source": [
    "ilkSayi=int(input(\"İlk sayıyı girin lütfen\"))"
   ]
  },
  {
   "cell_type": "code",
   "execution_count": 20,
   "id": "01618216-c5b6-4de5-8fcf-662d36f313b1",
   "metadata": {},
   "outputs": [
    {
     "name": "stdin",
     "output_type": "stream",
     "text": [
      "İkinci sayıyı girin lütfen 20\n"
     ]
    }
   ],
   "source": [
    "ikinciSayi=int(input(\"İkinci sayıyı girin lütfen\"))"
   ]
  },
  {
   "cell_type": "code",
   "execution_count": 24,
   "id": "da564b3f-4a22-486b-a59a-6671967a1ab8",
   "metadata": {},
   "outputs": [
    {
     "name": "stdout",
     "output_type": "stream",
     "text": [
      "İki sayının toplamı 35\n"
     ]
    }
   ],
   "source": [
    "print(\"İki sayının toplamı\" ,ilkSayi+ikinciSayi)"
   ]
  },
  {
   "cell_type": "code",
   "execution_count": 25,
   "id": "24e2ee41-ed7d-4e47-b364-d55d6889fe61",
   "metadata": {},
   "outputs": [
    {
     "name": "stdout",
     "output_type": "stream",
     "text": [
      "İki sayının farkı -5\n"
     ]
    }
   ],
   "source": [
    "print(\"İki sayının farkı\",ilkSayi-ikinciSayi)"
   ]
  },
  {
   "cell_type": "code",
   "execution_count": 27,
   "id": "caca5d85-6ef9-41e6-a7a4-0678d085e337",
   "metadata": {},
   "outputs": [
    {
     "name": "stdout",
     "output_type": "stream",
     "text": [
      "İki sayının çarpımı 300\n"
     ]
    }
   ],
   "source": [
    "print(\"İki sayının çarpımı\",ilkSayi*ikinciSayi)"
   ]
  },
  {
   "cell_type": "code",
   "execution_count": 28,
   "id": "032b6c61-4688-4b89-b2ba-c2dfb59db301",
   "metadata": {},
   "outputs": [
    {
     "data": {
      "text/plain": [
       "'2'"
      ]
     },
     "execution_count": 28,
     "metadata": {},
     "output_type": "execute_result"
    }
   ],
   "source": [
    "str(adet)"
   ]
  },
  {
   "cell_type": "code",
   "execution_count": 29,
   "id": "95bea689-a0bf-42f0-8d3c-9451d8e226ec",
   "metadata": {},
   "outputs": [
    {
     "data": {
      "text/plain": [
       "2.0"
      ]
     },
     "execution_count": 29,
     "metadata": {},
     "output_type": "execute_result"
    }
   ],
   "source": [
    "float(adet)"
   ]
  },
  {
   "cell_type": "code",
   "execution_count": 30,
   "id": "b3535248-6451-44f4-b5d0-23dc1a9c9e0f",
   "metadata": {},
   "outputs": [],
   "source": [
    "# 3.String İşlemleri ve Listeler"
   ]
  },
  {
   "cell_type": "code",
   "execution_count": 35,
   "id": "cbc11bec-f606-42b4-acb9-d2b6728b9a4c",
   "metadata": {},
   "outputs": [
    {
     "name": "stdin",
     "output_type": "stream",
     "text": [
      "Bir cümle yazın merhaba ben ecem\n"
     ]
    }
   ],
   "source": [
    "cumle=input(\"Bir cümle yazın\")"
   ]
  },
  {
   "cell_type": "code",
   "execution_count": 37,
   "id": "1765e773-3396-4181-8aa6-6d5fd7261bbb",
   "metadata": {},
   "outputs": [
    {
     "data": {
      "text/plain": [
       "'MERHABA BEN ECEM'"
      ]
     },
     "execution_count": 37,
     "metadata": {},
     "output_type": "execute_result"
    }
   ],
   "source": [
    "cumle.upper()"
   ]
  },
  {
   "cell_type": "code",
   "execution_count": 38,
   "id": "a251890f-0a83-45d7-bdd8-58f2669fcd6b",
   "metadata": {},
   "outputs": [],
   "source": [
    "mylist=[\"elma\",\"armut\",\"muz\"]"
   ]
  },
  {
   "cell_type": "code",
   "execution_count": 39,
   "id": "b6d97f4b-5c59-47f8-bbfb-f4531352797f",
   "metadata": {},
   "outputs": [
    {
     "name": "stdout",
     "output_type": "stream",
     "text": [
      "['elma', 'armut', 'muz']\n"
     ]
    }
   ],
   "source": [
    "print(mylist)"
   ]
  },
  {
   "cell_type": "code",
   "execution_count": 40,
   "id": "ba8f0838-1030-47b2-846b-c4e8d0096999",
   "metadata": {},
   "outputs": [],
   "source": [
    "mylist.remove(\"elma\")"
   ]
  },
  {
   "cell_type": "code",
   "execution_count": 41,
   "id": "32019f03-ae99-4b0c-89a7-965657f6fb5b",
   "metadata": {},
   "outputs": [
    {
     "name": "stdout",
     "output_type": "stream",
     "text": [
      "['armut', 'muz']\n"
     ]
    }
   ],
   "source": [
    "print(mylist)"
   ]
  },
  {
   "cell_type": "code",
   "execution_count": 42,
   "id": "bc3ba021-a560-4ca1-b48e-6305315ce763",
   "metadata": {},
   "outputs": [
    {
     "name": "stdout",
     "output_type": "stream",
     "text": [
      "['armut', 'muz', 'mandalina']\n"
     ]
    }
   ],
   "source": [
    "mylist.insert(2,\"mandalina\")\n",
    "print(mylist)"
   ]
  },
  {
   "cell_type": "code",
   "execution_count": 43,
   "id": "796b0a0a-4373-474e-9a05-0680809dd23d",
   "metadata": {},
   "outputs": [],
   "source": [
    "# 4.Koşul ifadeleri"
   ]
  },
  {
   "cell_type": "code",
   "execution_count": 44,
   "id": "4dee529f-8209-41a2-8e16-71e1b25b5ea0",
   "metadata": {},
   "outputs": [
    {
     "name": "stdin",
     "output_type": "stream",
     "text": [
      "Lütfen yaşınızı giriniz 20\n"
     ]
    }
   ],
   "source": [
    "yas=int(input(\"Lütfen yaşınızı giriniz\"))"
   ]
  },
  {
   "cell_type": "code",
   "execution_count": 46,
   "id": "963190db-3d44-444c-8645-d9c64c6b349b",
   "metadata": {},
   "outputs": [
    {
     "name": "stdout",
     "output_type": "stream",
     "text": [
      "Ehliyeti alabilirsiniz.\n"
     ]
    }
   ],
   "source": [
    "if yas>18:\n",
    "    print(\"Ehliyeti alabilirsiniz.\")\n",
    "\n",
    "else:\n",
    "    print(\"Ehliyet almak için yaşınız tutmuyor.\")\n"
   ]
  },
  {
   "cell_type": "code",
   "execution_count": null,
   "id": "e6c57adf-a43c-46dc-b5ae-c60677af9ce2",
   "metadata": {},
   "outputs": [],
   "source": [
    "#Tahmin oyunu"
   ]
  },
  {
   "cell_type": "code",
   "execution_count": 81,
   "id": "6db5b1ff-ffc3-4c1d-b61f-90bd76268874",
   "metadata": {},
   "outputs": [
    {
     "name": "stdin",
     "output_type": "stream",
     "text": [
      "1 ile 10 arasında bir sayı tahmini yapın:  15\n"
     ]
    },
    {
     "name": "stdout",
     "output_type": "stream",
     "text": [
      "Yanlış tahmin, tekrar deneyin!\n"
     ]
    },
    {
     "name": "stdin",
     "output_type": "stream",
     "text": [
      "1 ile 10 arasında bir sayı tahmini yapın:  5\n"
     ]
    },
    {
     "name": "stdout",
     "output_type": "stream",
     "text": [
      "Yanlış tahmin, tekrar deneyin!\n"
     ]
    },
    {
     "name": "stdin",
     "output_type": "stream",
     "text": [
      "1 ile 10 arasında bir sayı tahmini yapın:  1\n"
     ]
    },
    {
     "name": "stdout",
     "output_type": "stream",
     "text": [
      "Yanlış tahmin, tekrar deneyin!\n"
     ]
    },
    {
     "name": "stdin",
     "output_type": "stream",
     "text": [
      "1 ile 10 arasında bir sayı tahmini yapın:  2\n"
     ]
    },
    {
     "name": "stdout",
     "output_type": "stream",
     "text": [
      "Yanlış tahmin, tekrar deneyin!\n"
     ]
    },
    {
     "name": "stdin",
     "output_type": "stream",
     "text": [
      "1 ile 10 arasında bir sayı tahmini yapın:  3\n"
     ]
    },
    {
     "name": "stdout",
     "output_type": "stream",
     "text": [
      "Yanlış tahmin, tekrar deneyin!\n"
     ]
    },
    {
     "name": "stdin",
     "output_type": "stream",
     "text": [
      "1 ile 10 arasında bir sayı tahmini yapın:  4\n"
     ]
    },
    {
     "name": "stdout",
     "output_type": "stream",
     "text": [
      "Yanlış tahmin, tekrar deneyin!\n"
     ]
    },
    {
     "name": "stdin",
     "output_type": "stream",
     "text": [
      "1 ile 10 arasında bir sayı tahmini yapın:  5\n"
     ]
    },
    {
     "name": "stdout",
     "output_type": "stream",
     "text": [
      "Yanlış tahmin, tekrar deneyin!\n"
     ]
    },
    {
     "name": "stdin",
     "output_type": "stream",
     "text": [
      "1 ile 10 arasında bir sayı tahmini yapın:  6\n"
     ]
    },
    {
     "name": "stdout",
     "output_type": "stream",
     "text": [
      "Yanlış tahmin, tekrar deneyin!\n"
     ]
    },
    {
     "name": "stdin",
     "output_type": "stream",
     "text": [
      "1 ile 10 arasında bir sayı tahmini yapın:  7\n"
     ]
    },
    {
     "name": "stdout",
     "output_type": "stream",
     "text": [
      "Yanlış tahmin, tekrar deneyin!\n"
     ]
    },
    {
     "name": "stdin",
     "output_type": "stream",
     "text": [
      "1 ile 10 arasında bir sayı tahmini yapın:  8\n"
     ]
    },
    {
     "name": "stdout",
     "output_type": "stream",
     "text": [
      "Tebrikler, doğru tahmin!  8\n"
     ]
    }
   ],
   "source": [
    "import random\n",
    "\n",
    "sayi = random.randint(1, 10)  \n",
    "\n",
    "while True:\n",
    "    try:\n",
    "        tahmin = int(input(\"1 ile 10 arasında bir sayı tahmini yapın: \")) \n",
    "\n",
    "        if sayi == tahmin:\n",
    "            print(\"Tebrikler, doğru tahmin! \", sayi)\n",
    "            break  \n",
    "        else:\n",
    "            print(\"Yanlış tahmin, tekrar deneyin!\")\n",
    "\n",
    "    except ValueError:\n",
    "        print(\"Lütfen geçerli bir sayı girin!\")\n"
   ]
  },
  {
   "cell_type": "code",
   "execution_count": 82,
   "id": "e92de2f7-23b4-44ce-8067-19679f1aedb4",
   "metadata": {},
   "outputs": [],
   "source": [
    "#Amiral Battı"
   ]
  },
  {
   "cell_type": "code",
   "execution_count": 91,
   "id": "b6e9a01c-9eb5-457e-89cd-e7ed98bb4e60",
   "metadata": {},
   "outputs": [
    {
     "name": "stdin",
     "output_type": "stream",
     "text": [
      "Satır seçin(1-5) 1\n",
      "Sütun seçin(1-5) 5\n"
     ]
    },
    {
     "name": "stdout",
     "output_type": "stream",
     "text": [
      "Yeniden deneyin\n"
     ]
    },
    {
     "name": "stdin",
     "output_type": "stream",
     "text": [
      "Satır seçin(1-5) 2\n",
      "Sütun seçin(1-5) 1\n"
     ]
    },
    {
     "name": "stdout",
     "output_type": "stream",
     "text": [
      "Yeniden deneyin\n"
     ]
    },
    {
     "name": "stdin",
     "output_type": "stream",
     "text": [
      "Satır seçin(1-5) 1\n",
      "Sütun seçin(1-5) 2\n"
     ]
    },
    {
     "name": "stdout",
     "output_type": "stream",
     "text": [
      "Yeniden deneyin\n"
     ]
    },
    {
     "name": "stdin",
     "output_type": "stream",
     "text": [
      "Satır seçin(1-5) 1\n",
      "Sütun seçin(1-5) 3\n"
     ]
    },
    {
     "name": "stdout",
     "output_type": "stream",
     "text": [
      "Tebrikler,gemiyi vurdunuz\n"
     ]
    }
   ],
   "source": [
    "gemiSatir=random.randint(1,5)\n",
    "gemiSutun=random.randint(1,5)\n",
    "\n",
    "while True:\n",
    "    try:\n",
    "        tahminSatir=int(input(\"Satır seçin(1-5)\"))\n",
    "        tahminSutun=int(input(\"Sütun seçin(1-5)\"))\n",
    "\n",
    "        if gemiSatir==tahminSatir and gemiSutun==tahminSutun:\n",
    "            print(\"Tebrikler,gemiyi vurdunuz\")\n",
    "            break\n",
    "        else: \n",
    "            print(\"Yeniden deneyin\")\n",
    " \n",
    "    except ValueError:\n",
    "        print(\"Lütfen geçerli sayı girin\")\n",
    "\n"
   ]
  },
  {
   "cell_type": "code",
   "execution_count": 92,
   "id": "1ce4c60d-353b-4b72-a042-e0a2c9b283c1",
   "metadata": {},
   "outputs": [],
   "source": [
    "#Amiral Battı-2"
   ]
  },
  {
   "cell_type": "code",
   "execution_count": 98,
   "id": "9f140fff-f15a-4315-8cc6-0e602bac8578",
   "metadata": {},
   "outputs": [
    {
     "name": "stdin",
     "output_type": "stream",
     "text": [
      "Satır seçin(1-5) 2\n",
      "Sütun seçin(1-5) 1\n"
     ]
    },
    {
     "name": "stdout",
     "output_type": "stream",
     "text": [
      "Yeniden deneyin\n",
      "Kalan hakkınız:   4\n"
     ]
    },
    {
     "name": "stdin",
     "output_type": "stream",
     "text": [
      "Satır seçin(1-5) 5\n",
      "Sütun seçin(1-5) 1\n"
     ]
    },
    {
     "name": "stdout",
     "output_type": "stream",
     "text": [
      "Yeniden deneyin\n",
      "Kalan hakkınız:   3\n"
     ]
    },
    {
     "name": "stdin",
     "output_type": "stream",
     "text": [
      "Satır seçin(1-5) 3\n",
      "Sütun seçin(1-5) 2\n"
     ]
    },
    {
     "name": "stdout",
     "output_type": "stream",
     "text": [
      "Yeniden deneyin\n",
      "Kalan hakkınız:   2\n"
     ]
    },
    {
     "name": "stdin",
     "output_type": "stream",
     "text": [
      "Satır seçin(1-5) 2\n",
      "Sütun seçin(1-5) 3\n"
     ]
    },
    {
     "name": "stdout",
     "output_type": "stream",
     "text": [
      "Yeniden deneyin\n",
      "Kalan hakkınız:   1\n"
     ]
    },
    {
     "name": "stdin",
     "output_type": "stream",
     "text": [
      "Satır seçin(1-5) 3\n",
      "Sütun seçin(1-5) 2\n"
     ]
    },
    {
     "name": "stdout",
     "output_type": "stream",
     "text": [
      "Yeniden deneyin\n",
      "Hakkınız bitti\n",
      "Gemi yeri:   1 , 1\n"
     ]
    }
   ],
   "source": [
    "gemiSatir=random.randint(1,5)\n",
    "gemiSutun=random.randint(1,5)\n",
    "hak=5\n",
    "while True:\n",
    "    try:\n",
    "        tahminSatir=int(input(\"Satır seçin(1-5)\"))\n",
    "        tahminSutun=int(input(\"Sütun seçin(1-5)\"))\n",
    "\n",
    "        if gemiSatir==tahminSatir and gemiSutun==tahminSutun:\n",
    "            print(\"Tebrikler,gemiyi vurdunuz\")\n",
    "            break\n",
    "        else: \n",
    "            print(\"Yeniden deneyin\")\n",
    "            hak-=1\n",
    "            if hak==0:\n",
    "             print(\"Hakkınız bitti\")\n",
    "             print(\"Gemi yeri:\",gemiSatir,\",\",gemiSatir)\n",
    "             break\n",
    "            else:\n",
    "             print(\"Kalan hakkınız:\",\" \",hak)\n",
    " \n",
    "    except ValueError:\n",
    "        print(\"Lütfen geçerli sayı girin\")\n",
    "\n"
   ]
  },
  {
   "cell_type": "code",
   "execution_count": null,
   "id": "823481cb-c1e6-4635-b120-b90f2a5d19f6",
   "metadata": {},
   "outputs": [],
   "source": []
  }
 ],
 "metadata": {
  "kernelspec": {
   "display_name": "Python 3 (ipykernel)",
   "language": "python",
   "name": "python3"
  },
  "language_info": {
   "codemirror_mode": {
    "name": "ipython",
    "version": 3
   },
   "file_extension": ".py",
   "mimetype": "text/x-python",
   "name": "python",
   "nbconvert_exporter": "python",
   "pygments_lexer": "ipython3",
   "version": "3.12.7"
  }
 },
 "nbformat": 4,
 "nbformat_minor": 5
}
